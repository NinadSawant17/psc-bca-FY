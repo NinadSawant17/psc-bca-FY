{
 "cells": [
  {
   "cell_type": "code",
   "execution_count": 30,
   "id": "fc6f47c7-61e3-43b8-96e7-1f7a8606d49e",
   "metadata": {},
   "outputs": [
    {
     "data": {
      "text/plain": [
       "'fARDeeN ANmed'"
      ]
     },
     "execution_count": 30,
     "metadata": {},
     "output_type": "execute_result"
    }
   ],
   "source": [
    "# Convert capital letters to small letters and small letters to capital\n",
    "\n",
    "name = \"FardEEn anMED\"\n",
    "name.swapcase()\n",
    "\n"
   ]
  },
  {
   "cell_type": "code",
   "execution_count": 34,
   "id": "5b4fb085-b520-481f-a9b7-d210f5adb921",
   "metadata": {},
   "outputs": [
    {
     "data": {
      "text/plain": [
       "'F@a@r@d@E@E@n@ @a@n@M@E@D@'"
      ]
     },
     "execution_count": 34,
     "metadata": {},
     "output_type": "execute_result"
    }
   ],
   "source": [
    "name = \"FardEEn anMED\"\n",
    "'@'.join(name) \n",
    "\n"
   ]
  },
  {
   "cell_type": "code",
   "execution_count": 50,
   "id": "aaef8d53-4efd-47df-afe8-11f4f18ad0d9",
   "metadata": {},
   "outputs": [
    {
     "data": {
      "text/plain": [
       "True"
      ]
     },
     "execution_count": 50,
     "metadata": {},
     "output_type": "execute_result"
    }
   ],
   "source": [
    "name1 = \"Tanushree Jadhav\"\n",
    "\n",
    "name1.isalpha()"
   ]
  },
  {
   "cell_type": "code",
   "execution_count": 56,
   "id": "9d718df2-0df2-498d-b847-e6d831fdbd20",
   "metadata": {},
   "outputs": [
    {
     "data": {
      "text/plain": [
       "'vahdaJeerhsunaT'"
      ]
     },
     "execution_count": 56,
     "metadata": {},
     "output_type": "execute_result"
    }
   ],
   "source": [
    "\"\".join(reversed(name1))"
   ]
  },
  {
   "cell_type": "code",
   "execution_count": 58,
   "id": "b2943d81-644d-47d2-bea0-189827989f40",
   "metadata": {},
   "outputs": [
    {
     "data": {
      "text/plain": [
       "True"
      ]
     },
     "execution_count": 58,
     "metadata": {},
     "output_type": "execute_result"
    }
   ],
   "source": [
    "d = 45451\n",
    "d.is_integer()"
   ]
  },
  {
   "cell_type": "code",
   "execution_count": null,
   "id": "ece3e16f-3bf7-451d-801d-da8a82d29f5d",
   "metadata": {},
   "outputs": [],
   "source": []
  }
 ],
 "metadata": {
  "kernelspec": {
   "display_name": "Python 3 (ipykernel)",
   "language": "python",
   "name": "python3"
  },
  "language_info": {
   "codemirror_mode": {
    "name": "ipython",
    "version": 3
   },
   "file_extension": ".py",
   "mimetype": "text/x-python",
   "name": "python",
   "nbconvert_exporter": "python",
   "pygments_lexer": "ipython3",
   "version": "3.12.4"
  }
 },
 "nbformat": 4,
 "nbformat_minor": 5
}
